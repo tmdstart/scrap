{
 "cells": [
  {
   "cell_type": "code",
   "execution_count": 2,
   "id": "26bcc301",
   "metadata": {},
   "outputs": [],
   "source": [
    "import pymysql"
   ]
  },
  {
   "cell_type": "code",
   "execution_count": 7,
   "id": "36001980",
   "metadata": {},
   "outputs": [
    {
     "name": "stdout",
     "output_type": "stream",
     "text": [
      "MySQL 버전: 9.4.0\n",
      "데이터베이스 목록:\n",
      "- information_schema\n",
      "- mysql\n",
      "- performance_schema\n",
      "- sys\n"
     ]
    }
   ],
   "source": [
    "import pymysql\n",
    "\n",
    "# MySQL 연결 설정\n",
    "connection = pymysql.connect(\n",
    "    host='192.168.186.134',  # 도커 컨테이너가 로컬에서 실행 중이므로 localhost\n",
    "    port=3307,         # 도커 실행 시 매핑한 포트 (3307:3306)\n",
    "    user='root',       # MySQL 사용자 이름\n",
    "    password='1234',   # 도커 실행 시 설정한 루트 비밀번호\n",
    "    database='mysql'   # 기본 데이터베이스 (없으면 생성한 데이터베이스 이름)\n",
    ")\n",
    "\n",
    "try:\n",
    "    # 커서 생성\n",
    "    with connection.cursor() as cursor:\n",
    "        # SQL 쿼리 실행\n",
    "        cursor.execute(\"SELECT VERSION()\")\n",
    "        # 결과 가져오기\n",
    "        result = cursor.fetchone()\n",
    "        print(f\"MySQL 버전: {result[0]}\")\n",
    "        \n",
    "        # 데이터베이스 목록 조회\n",
    "        cursor.execute(\"SHOW DATABASES\")\n",
    "        databases = cursor.fetchall()\n",
    "        print(\"데이터베이스 목록:\")\n",
    "        for db in databases:\n",
    "            print(f\"- {db[0]}\")\n",
    "            \n",
    "finally:\n",
    "    # 연결 종료\n",
    "    connection.close()\n"
   ]
  },
  {
   "cell_type": "code",
   "execution_count": 26,
   "id": "9953c5f0",
   "metadata": {},
   "outputs": [],
   "source": [
    "import pymysql\n",
    "# MySQL 서버에 연결\n",
    "\n",
    "con = connection = pymysql.connect(\n",
    "    host='192.168.186.134',  # 도커 컨테이너가 로컬에서 실행 중이므로 localhost\n",
    "    port=3307,         # 도커 실행 시 매핑한 포트 (3307:3306)\n",
    "    user='root',       # MySQL 사용자 이름\n",
    "    password='1234',   # 도커 실행 시 설정한 루트 비밀번호\n",
    "    database='mysql'   # 기본 데이터베이스 (없으면 생성한 데이터베이스 이름)\n",
    ")\n",
    "\n",
    "con = pymysql.connect(host='192.168.186.134',port=3307, user='root', password='1234',  db='mysql',\n",
    " charset='utf8') \n",
    "# 커서 생성\n",
    "cursor = con.cursor()\n",
    "sql_query = \"\"\"\n",
    "        CREATE DATABASE IF NOT EXISTS my_database\n",
    "        CHARACTER SET utf8mb4\n",
    "        COLLATE utf8mb4_unicode_ci;\n",
    "        \"\"\"\n",
    "cursor.execute(sql_query)\n",
    "cursor.close()\n",
    "con.commit\n",
    "con.close()"
   ]
  },
  {
   "cell_type": "code",
   "execution_count": 27,
   "id": "9acfa2f5",
   "metadata": {},
   "outputs": [],
   "source": [
    "import pymysql\n",
    "# MySQL 서버에 연결\n",
    "\n",
    "con = connection = pymysql.connect(\n",
    "    host='192.168.186.134',  # 도커 컨테이너가 로컬에서 실행 중이므로 localhost\n",
    "    port=3307,         # 도커 실행 시 매핑한 포트 (3307:3306)\n",
    "    user='root',       # MySQL 사용자 이름\n",
    "    password='1234',   # 도커 실행 시 설정한 루트 비밀번호\n",
    "    database='mysql'   # 기본 데이터베이스 (없으면 생성한 데이터베이스 이름)\n",
    ")\n",
    "\n",
    "\n",
    "\n",
    "con = pymysql.connect(host='192.168.186.134',port=3307, user='root', password='1234',  db='my_database',\n",
    " charset='utf8') \n",
    "# 커서 생성\n",
    "cursor = con.cursor()\n",
    "sql_query = '''CREATE TABLE USERS(\n",
    "ID1 INT PRIMARY KEY AUTO_INCREMENT, ID2 VARCHAR(255))'''\n",
    "cursor.execute(sql_query)\n",
    "cursor.close()\n",
    "con.commit()\n",
    "con.close()"
   ]
  },
  {
   "cell_type": "code",
   "execution_count": 21,
   "id": "47fbfad1",
   "metadata": {},
   "outputs": [],
   "source": [
    "con = pymysql.connect(host='192.168.186.134',port=3307, user='root', password='1234',  db='my_database',\n",
    " charset='utf8') \n",
    "cursor = con.cursor()\n",
    "sql_query = ins_query =''' \n",
    "INSERT INTO USERS(ID2) VALUES ('tom')\n",
    "'''\n",
    "cursor.execute(sql_query)\n",
    "cursor.close()\n",
    "con.commit()\n",
    "con.close()"
   ]
  },
  {
   "cell_type": "code",
   "execution_count": 32,
   "id": "a75778e3",
   "metadata": {},
   "outputs": [],
   "source": [
    "con = pymysql.connect(host='192.168.186.134',port=3308, user='root', password='1234',  db='my_database',\n",
    " charset='utf8') \n",
    "cursor = con.cursor()\n",
    "sql_query = ins_query =''' \n",
    "INSERT INTO USERS(ID2) VALUES (%s)\n",
    "'''\n",
    "cursor.execute(sql_query, \"jane\")\n",
    "cursor.close()\n",
    "con.commit()\n",
    "con.close()"
   ]
  }
 ],
 "metadata": {
  "kernelspec": {
   "display_name": "lg7pilot",
   "language": "python",
   "name": "python3"
  },
  "language_info": {
   "codemirror_mode": {
    "name": "ipython",
    "version": 3
   },
   "file_extension": ".py",
   "mimetype": "text/x-python",
   "name": "python",
   "nbconvert_exporter": "python",
   "pygments_lexer": "ipython3",
   "version": "3.12.1"
  }
 },
 "nbformat": 4,
 "nbformat_minor": 5
}
