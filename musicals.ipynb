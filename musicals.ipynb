{
 "cells": [
  {
   "cell_type": "code",
   "execution_count": 1,
   "id": "95451676",
   "metadata": {},
   "outputs": [],
   "source": [
    "import requests\n",
    "from bs4 import BeautifulSoup\n",
    "from io import BytesIO\n",
    "from PIL import Image\n",
    "import re\n",
    "import os\n",
    "import sqlite3\n",
    "import time # 페이지 간 지연 시간을 위해 time 모듈 추가\n",
    "import pymysql"
   ]
  },
  {
   "cell_type": "code",
   "execution_count": 4,
   "id": "fc83fe4f",
   "metadata": {},
   "outputs": [],
   "source": [
    "musicals = requests.get(\"https://tickets.interpark.com/contents/ranking?genre=MUSICAL\")\n",
    "##contents > article:nth-child(3) > section > div > div > div.responsive-ranking-list_rankingListWrap__GM0yK.responsive-ranking-list_topRated__axfTY > div:nth-child(1)"
   ]
  },
  {
   "cell_type": "code",
   "execution_count": 6,
   "id": "38fee578",
   "metadata": {},
   "outputs": [],
   "source": [
    "# --- 전역 설정 변수 ---\n",
    "DB_HOST = 'localhost'\n",
    "DB_USER = 'root'\n",
    "DB_PASSWORD = '1234'\n",
    "DB_NAME = 'my_database'\n",
    "IMAGE_DIR = r'C:\\gitmain\\scrap\\images3' # Raw 문자열로 경로 지정\n",
    "# URL 변경: 이제 페이지 번호는 loop에서 추가됩니다.\n",
    "NEWS_BASE_URL = \"https://tickets.interpark.com/contents/ranking?genre=MUSICAL\"\n",
    "FILENAME_PATTERN = r'[\\\\/:\"*?<>|]' # 파일명에 사용할 수 없는 문자 패턴"
   ]
  },
  {
   "cell_type": "code",
   "execution_count": 7,
   "id": "2b3e22e0",
   "metadata": {},
   "outputs": [],
   "source": [
    "def connect_db():\n",
    "    \"\"\"MySQL DB연결 후 객체 반환.\"\"\"\n",
    "    db_con = pymysql.connect(host=DB_HOST,\n",
    "                             user=DB_USER,\n",
    "                             password=DB_PASSWORD,\n",
    "                             db=DB_NAME,)\n",
    "    db_cursor = db_con.cursor()\n",
    "    print(\"MySQL 데이터베이스에 성공적으로 연결되었습니다.\")\n",
    "    return db_con, db_cursor"
   ]
  }
 ],
 "metadata": {
  "kernelspec": {
   "display_name": "webcrawl_env",
   "language": "python",
   "name": "python3"
  },
  "language_info": {
   "codemirror_mode": {
    "name": "ipython",
    "version": 3
   },
   "file_extension": ".py",
   "mimetype": "text/x-python",
   "name": "python",
   "nbconvert_exporter": "python",
   "pygments_lexer": "ipython3",
   "version": "3.10.18"
  }
 },
 "nbformat": 4,
 "nbformat_minor": 5
}
