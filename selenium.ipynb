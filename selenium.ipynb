{
 "cells": [
  {
   "cell_type": "code",
   "execution_count": 1,
   "id": "2bd3ceca",
   "metadata": {},
   "outputs": [
    {
     "name": "stdout",
     "output_type": "stream",
     "text": [
      "4.34.2\n"
     ]
    }
   ],
   "source": [
    "import selenium\n",
    "print(selenium.__version__)\n",
    "\n",
    "#Selenium의 웹드라이버 기능 불러오기 (크롬, 파이어폭스 등 조작 가능)\n",
    "from selenium import webdriver\n",
    "import os\n",
    "import requests\n",
    "from bs4 import BeautifulSoup"
   ]
  },
  {
   "cell_type": "code",
   "execution_count": 2,
   "id": "c7c7b7ae",
   "metadata": {},
   "outputs": [
    {
     "data": {
      "text/plain": [
       "'c:\\\\gitmain\\\\scrap\\\\html\\\\sample.htmnl'"
      ]
     },
     "execution_count": 2,
     "metadata": {},
     "output_type": "execute_result"
    }
   ],
   "source": [
    "import os\n",
    "\n",
    "os.path.abspath('./html/sample.htmnl')"
   ]
  },
  {
   "cell_type": "code",
   "execution_count": 47,
   "id": "5c871e7d",
   "metadata": {},
   "outputs": [
    {
     "name": "stdout",
     "output_type": "stream",
     "text": [
      "c:\\gitmain\\hipython_rep\\html\\basic2.html\n",
      "c:\\gitmain\\hipython_rep./html/basic2.html\n"
     ]
    },
    {
     "data": {
      "text/plain": [
       "'c:\\\\gitmain\\\\hipython_rep./html/basic2.html'"
      ]
     },
     "execution_count": 47,
     "metadata": {},
     "output_type": "execute_result"
    }
   ],
   "source": [
    "file_path = os.getcwd()+'./html/basic2.html'\n",
    "print(os.path.abspath('./html/basic2.html'))\n",
    "print(file_path)\n",
    "url = 'file:///' + file_path\n",
    "file_path"
   ]
  },
  {
   "cell_type": "code",
   "execution_count": null,
   "id": "fba1eac0",
   "metadata": {},
   "outputs": [],
   "source": []
  },
  {
   "cell_type": "code",
   "execution_count": 48,
   "id": "ff1cb169",
   "metadata": {},
   "outputs": [],
   "source": [
    "from selenium.webdriver import Chrome\n",
    "import os\n",
    "\n",
    "file_path = os.getcwd() + './html/basic2.html'\n",
    "\n",
    "from selenium.webdriver.chrome.options import Options\n",
    "\n",
    "\n",
    "#Chrome 브라우저의 실행 옵션을 설정하기 위해 Options 객체를 만들기\n",
    "chrome_options = Options()\n",
    "\n",
    "#브라우저 창을 자동화가 끝나도 닫지 않고, 계속 열어두게 함\n",
    "chrome_options.add_experimental_option(name='detach', value=True)\n",
    "\n",
    "\n",
    "#Chrome 브라우저를 위에서 설정한 옵션과 함께 실행\n",
    "driver = Chrome(options=chrome_options)\n",
    "\n",
    "#file:///는 로컬 파일을 브라우저에서 여는 URL 형식\n",
    "driver.get(\"file:///\"+file_path) "
   ]
  },
  {
   "cell_type": "code",
   "execution_count": 56,
   "id": "8514a21d",
   "metadata": {},
   "outputs": [
    {
     "name": "stdout",
     "output_type": "stream",
     "text": [
      "c:\\gitmain\\hipython_rep\\html\\basic2.html\n",
      "c:\\gitmain\\hipython_rep/html/basic2.html\n"
     ]
    }
   ],
   "source": [
    "import os\n",
    "file_path = os.getcwd() + '/html/basic2.html'\n",
    "print(os.path.abspath('html/basic2.html')) #path\n",
    "print(file_path)"
   ]
  },
  {
   "cell_type": "code",
   "execution_count": 57,
   "id": "a7bb63b3",
   "metadata": {},
   "outputs": [
    {
     "data": {
      "text/plain": [
       "'file:///c:\\\\gitmain\\\\hipython_rep/html/basic2.html'"
      ]
     },
     "execution_count": 57,
     "metadata": {},
     "output_type": "execute_result"
    }
   ],
   "source": [
    "url = 'file:///'+file_path\n",
    "url"
   ]
  },
  {
   "cell_type": "code",
   "execution_count": 58,
   "id": "bde014e8",
   "metadata": {},
   "outputs": [],
   "source": [
    "from selenium import webdriver\n",
    "\n",
    "driver = webdriver.Chrome()\n",
    "driver.get(url)"
   ]
  },
  {
   "cell_type": "code",
   "execution_count": 59,
   "id": "514e38fc",
   "metadata": {},
   "outputs": [],
   "source": [
    "username = driver.find_element(by='name', value='username')\n",
    "username.send_keys(\"ylee\")\n",
    "\n",
    "password = driver.find_element(by='name', value='password')\n",
    "password.send_keys(\"123456789\")"
   ]
  },
  {
   "cell_type": "code",
   "execution_count": 61,
   "id": "b6ce1ac3",
   "metadata": {},
   "outputs": [],
   "source": [
    "# 파이썬전문가그룹의 링크값\n",
    "link = driver.find_element(by='link text', value='파이썬전문가그룹')\n",
    "link.click()"
   ]
  },
  {
   "cell_type": "code",
   "execution_count": 62,
   "id": "ae68218c",
   "metadata": {},
   "outputs": [],
   "source": [
    "driver.back()"
   ]
  },
  {
   "cell_type": "markdown",
   "id": "fa213105",
   "metadata": {},
   "source": [
    "# 검색 결과 가져오기"
   ]
  },
  {
   "cell_type": "code",
   "execution_count": 74,
   "id": "5c45e0bc",
   "metadata": {},
   "outputs": [],
   "source": [
    "from selenium import webdriver\n",
    "\n",
    "driver = webdriver.Chrome()\n",
    "driver.get('https://www.python.org/')"
   ]
  },
  {
   "cell_type": "code",
   "execution_count": 64,
   "id": "52ad8536",
   "metadata": {},
   "outputs": [],
   "source": [
    "from selenium.webdriver.common.by import By"
   ]
  },
  {
   "cell_type": "code",
   "execution_count": 75,
   "id": "0c66ebdd",
   "metadata": {},
   "outputs": [],
   "source": [
    "\n",
    "input_el = driver.find_element(by=By.ID, value = 'id-search-field')\n",
    "input_el.send_keys('pycon')"
   ]
  },
  {
   "cell_type": "code",
   "execution_count": 79,
   "id": "f4c17b0c",
   "metadata": {},
   "outputs": [
    {
     "name": "stdout",
     "output_type": "stream",
     "text": [
      "<selenium.webdriver.remote.webelement.WebElement (session=\"7671ae0763f513fef984cf66c379908b\", element=\"f.6E31FEA2DAF5F416CE809C547016E95F.d.6C83C9678804F37012F3D34358DF9735.e.545\")>\n"
     ]
    }
   ],
   "source": [
    "pr=driver.find_element(by='css selector', value='#id-search-field')\n",
    "print(pr)"
   ]
  },
  {
   "cell_type": "code",
   "execution_count": 81,
   "id": "749d1e91",
   "metadata": {},
   "outputs": [],
   "source": [
    "input_el2 = pr=driver.find_element(by='css selector', value='#id-search-field')\n",
    "input_el2.send_keys('hahahaha')"
   ]
  },
  {
   "cell_type": "code",
   "execution_count": 84,
   "id": "065eb9c8",
   "metadata": {},
   "outputs": [],
   "source": [
    "from selenium import webdriver\n",
    "from selenium.webdriver.common.keys import Keys\n",
    "\n",
    "\n",
    "driver = webdriver.Chrome()\n",
    "driver.get('https://www.python.org/')\n",
    "\n",
    "input_el = driver.find_element(by=By.ID, value = 'id-search-field')\n",
    "input_el.send_keys('pycon')\n",
    "input_el.send_keys(Keys.RETURN)\n"
   ]
  },
  {
   "cell_type": "code",
   "execution_count": null,
   "id": "a414c6cc",
   "metadata": {},
   "outputs": [
    {
     "name": "stdout",
     "output_type": "stream",
     "text": [
      "PSF PyCon Trademark Usage Policy\n",
      "PyCon Italia 2016 (PyCon Sette)\n",
      "PyCon Australia 2013\n",
      "PyCon AU 2019\n",
      "PyCon NL 2025\n",
      "PyCon Australia 2014\n",
      "PyCon Ireland 2012\n",
      "PyCon Ireland 2016\n",
      "PyCon Ireland 2022\n",
      "PyCon Australia 2014\n",
      "PyCon Ireland 2024\n",
      "PyCon APAC 2025\n",
      "PyCon AU 2018\n",
      "PyCon APAC 2022\n",
      "PyCon PH 2024\n",
      "PyCon Ireland 2023\n",
      "PyCon PL 2014\n",
      "PyCon MY 2015\n",
      "PyCon Ireland 2015\n",
      "PyCon AU 2015\n"
     ]
    }
   ],
   "source": [
    "#content > div > section > form > ul > li:nth-child(2) > h3 > a\n",
    "reuslt_list=driver.find_elements(by='css selector', value='form li h3 > a')\n",
    "\n",
    "for result in reuslt_list:\n",
    "    print(result.text)\n",
    "\n",
    "#element"
   ]
  },
  {
   "cell_type": "code",
   "execution_count": 101,
   "id": "5e814a85",
   "metadata": {},
   "outputs": [
    {
     "name": "stdout",
     "output_type": "stream",
     "text": [
      "20\n",
      "PSF PyCon Trademark Usage Policy\n",
      "PyCon Italia 2016 (PyCon Sette)\n",
      "PyCon Australia 2013\n",
      "PyCon AU 2019\n",
      "PyCon NL 2025\n",
      "PyCon Australia 2014\n",
      "PyCon Ireland 2012\n",
      "PyCon Ireland 2016\n",
      "PyCon Ireland 2022\n",
      "PyCon Australia 2014\n",
      "PyCon Ireland 2024\n",
      "PyCon APAC 2025\n",
      "PyCon AU 2018\n",
      "PyCon APAC 2022\n",
      "PyCon PH 2024\n",
      "PyCon Ireland 2023\n",
      "PyCon PL 2014\n",
      "PyCon MY 2015\n",
      "PyCon Ireland 2015\n",
      "PyCon AU 2015\n"
     ]
    }
   ],
   "source": [
    "from selenium import webdriver\n",
    "from selenium.webdriver.common.keys import Keys\n",
    "\n",
    "\n",
    "driver = webdriver.Chrome()\n",
    "driver.get('https://www.python.org/')\n",
    "\n",
    "input_el = driver.find_element(by=By.ID, value = 'id-search-field')\n",
    "input_el.send_keys('pycon')\n",
    "input_el.send_keys(Keys.RETURN)\n",
    "\n",
    "#content > div > section > form > ul > li:nth-child(2) > h3 > a\n",
    "reuslt_list=driver.find_elements(by='css selector', value='form li h3 > a')\n",
    "#driver.implicitly_wait(1) # 명시적 대기\n",
    "\n",
    "print(len(reuslt_list))\n",
    "\n",
    "for result in reuslt_list:\n",
    "    print(result.text)"
   ]
  },
  {
   "cell_type": "markdown",
   "id": "5ba9e039",
   "metadata": {},
   "source": [
    "# 날씨 정보를 일반적 조건으로 대기해서 가져오기"
   ]
  },
  {
   "cell_type": "code",
   "execution_count": 104,
   "id": "5d46f7a3",
   "metadata": {},
   "outputs": [],
   "source": [
    "import requests"
   ]
  },
  {
   "cell_type": "code",
   "execution_count": 106,
   "id": "e7e84ff4",
   "metadata": {},
   "outputs": [
    {
     "data": {
      "text/plain": [
       "<Response [200]>"
      ]
     },
     "execution_count": 106,
     "metadata": {},
     "output_type": "execute_result"
    }
   ],
   "source": [
    "\n",
    "url = 'https://www.weather.go.kr/w/index.do'\n",
    "res=requests.get(url)\n",
    "res"
   ]
  },
  {
   "cell_type": "code",
   "execution_count": 118,
   "id": "3b5287ca",
   "metadata": {},
   "outputs": [],
   "source": [
    "from selenium import webdriver\n",
    "from selenium.webdriver import Chrome\n",
    "from bs4 import BeautifulSoup\n",
    "soup=BeautifulSoup(res.text, 'html.parser')\n",
    "#soup.select(\".tmp\")\n",
    "#current-weather > div.cmp-cur-weather.wbg.wbg-type2.BGDB00 > ul.wrap-1 > li.w-icon.w-temp.no-w > span.tmp"
   ]
  },
  {
   "cell_type": "code",
   "execution_count": 113,
   "id": "91e7f856",
   "metadata": {},
   "outputs": [],
   "source": [
    "import time"
   ]
  },
  {
   "cell_type": "code",
   "execution_count": 121,
   "id": "1e175fa9",
   "metadata": {},
   "outputs": [
    {
     "data": {
      "text/plain": [
       "'34.7℃'"
      ]
     },
     "execution_count": 121,
     "metadata": {},
     "output_type": "execute_result"
    }
   ],
   "source": [
    "#res = requests.get(url)\n",
    "driver = Chrome()\n",
    "driver.get(url)\n",
    "time.sleep(3)\n",
    "element = driver.find_element(by='css selector', value='div#current-weather span.tmp')\n",
    "element.text"
   ]
  },
  {
   "cell_type": "code",
   "execution_count": 124,
   "id": "18fb8c5a",
   "metadata": {},
   "outputs": [],
   "source": [
    "#일반적대기\n",
    "from selenium.webdriver import Chrome\n",
    "from selenium.webdriver.support import expected_conditions as EC\n",
    "from selenium.webdriver.support.ui import WebDriverWait"
   ]
  },
  {
   "cell_type": "code",
   "execution_count": 129,
   "id": "dadcfe8e",
   "metadata": {},
   "outputs": [
    {
     "name": "stdout",
     "output_type": "stream",
     "text": [
      "34.7℃\n"
     ]
    }
   ],
   "source": [
    "driver = Chrome()\n",
    "driver.get(\"https://www.weather.go.kr/w/index.do\")\n",
    "wait = WebDriverWait(driver, 3) # 최대 3초까지 대기\n",
    "\n",
    "# find_element() 함수의 인수로 전달될 by와 value를 튜플 형식으로 지정\n",
    "element2 = wait.until(\n",
    "    #dirver.find_element\n",
    "    EC.presence_of_element_located((\"css selector\", \"div#current-weather span.tmp\"))\n",
    ")\n",
    "print(element2.text)\n",
    "driver.close()"
   ]
  },
  {
   "cell_type": "code",
   "execution_count": 134,
   "id": "5fec24e7",
   "metadata": {},
   "outputs": [
    {
     "data": {
      "text/plain": [
       "'{\\n  \"args\": {}, \\n  \"headers\": {\\n    \"Accept\": \"*/*\", \\n    \"Accept-Encoding\": \"gzip, deflate\", \\n    \"Host\": \"httpbin.org\", \\n    \"User-Agent\": \"python-requests/2.32.4\", \\n    \"X-Amzn-Trace-Id\": \"Root=1-68870dfc-24cd8e4c5861998c456b98ae\"\\n  }, \\n  \"origin\": \"118.36.174.103\", \\n  \"url\": \"https://httpbin.org/get\"\\n}\\n'"
      ]
     },
     "execution_count": 134,
     "metadata": {},
     "output_type": "execute_result"
    }
   ],
   "source": [
    "import requests\n",
    "\n",
    "url = 'https://httpbin.org/get'\n",
    "response = requests.get(url)\n",
    "response.text"
   ]
  },
  {
   "cell_type": "code",
   "execution_count": null,
   "id": "38b6229f",
   "metadata": {},
   "outputs": [],
   "source": [
    "params = {\n",
    "   'name':'ylee',\n",
    "   'age' : '20' \n",
    "}\n",
    "\n",
    "url = 'https://httpbin.org/get'\n",
    "\n",
    "response = requests.get(url, )"
   ]
  },
  {
   "cell_type": "code",
   "execution_count": 149,
   "id": "c8b12bee",
   "metadata": {},
   "outputs": [
    {
     "name": "stdout",
     "output_type": "stream",
     "text": [
      "{\n",
      "  \"args\": {}, \n",
      "  \"data\": \"{\\\"key\\\": \\\"value\\\"}\", \n",
      "  \"files\": {}, \n",
      "  \"form\": {}, \n",
      "  \"headers\": {\n",
      "    \"Accept\": \"*/*\", \n",
      "    \"Accept-Encoding\": \"gzip, deflate\", \n",
      "    \"Content-Length\": \"16\", \n",
      "    \"Content-Type\": \"application/json\", \n",
      "    \"Host\": \"httpbin.org\", \n",
      "    \"User-Agent\": \"python-requests/2.32.4\", \n",
      "    \"X-Amzn-Trace-Id\": \"Root=1-68871015-4185c69d7cc887a20e0ecc72\"\n",
      "  }, \n",
      "  \"json\": {\n",
      "    \"key\": \"value\"\n",
      "  }, \n",
      "  \"origin\": \"118.36.174.103\", \n",
      "  \"url\": \"https://httpbin.org/post\"\n",
      "}\n",
      "\n"
     ]
    }
   ],
   "source": [
    "params = {\n",
    "   'name':'ylee',\n",
    "   'age' : '20' \n",
    "}\n",
    "\n",
    "url = 'https://httpbin.org/post'\n",
    "\n",
    "response =requests.post(url, json={'key':'value'})\n",
    "print(response.text)"
   ]
  },
  {
   "cell_type": "code",
   "execution_count": 155,
   "id": "75159da1",
   "metadata": {},
   "outputs": [
    {
     "name": "stdout",
     "output_type": "stream",
     "text": [
      "{\n",
      "  \"args\": {}, \n",
      "  \"data\": \"\", \n",
      "  \"files\": {}, \n",
      "  \"form\": {\n",
      "    \"key\": \"value\"\n",
      "  }, \n",
      "  \"headers\": {\n",
      "    \"Accept\": \"*/*\", \n",
      "    \"Accept-Encoding\": \"gzip, deflate\", \n",
      "    \"Content-Length\": \"9\", \n",
      "    \"Content-Type\": \"application/x-www-form-urlencoded\", \n",
      "    \"Host\": \"httpbin.org\", \n",
      "    \"User-Agent\": \"python-requests/2.32.4\", \n",
      "    \"X-Amzn-Trace-Id\": \"Root=1-68871277-735505400e2c4d437ed8c949\"\n",
      "  }, \n",
      "  \"json\": null, \n",
      "  \"origin\": \"118.36.174.103\", \n",
      "  \"url\": \"https://httpbin.org/post\"\n",
      "}\n",
      "\n"
     ]
    }
   ],
   "source": [
    "params = {\n",
    "   'name':'ylee',\n",
    "   'age' : '20' \n",
    "}\n",
    "\n",
    "url = 'https://httpbin.org/post'\n",
    "\n",
    "response =requests.post(url, data={'key':'value'})\n",
    "print(response.text)\n"
   ]
  },
  {
   "cell_type": "code",
   "execution_count": 152,
   "id": "97565d35",
   "metadata": {},
   "outputs": [
    {
     "data": {
      "text/plain": [
       "'application/x-www-form-urlencoded'"
      ]
     },
     "execution_count": 152,
     "metadata": {},
     "output_type": "execute_result"
    }
   ],
   "source": [
    "response.json()['headers']['Content-Type']"
   ]
  },
  {
   "cell_type": "code",
   "execution_count": 151,
   "id": "d89f5934",
   "metadata": {},
   "outputs": [
    {
     "data": {
      "text/plain": [
       "'{\\n  \"args\": {}, \\n  \"data\": \"\", \\n  \"files\": {}, \\n  \"form\": {\\n    \"key\": \"value\"\\n  }, \\n  \"headers\": {\\n    \"Accept\": \"*/*\", \\n    \"Accept-Encoding\": \"gzip, deflate\", \\n    \"Content-Length\": \"9\", \\n    \"Content-Type\": \"application/x-www-form-urlencoded\", \\n    \"Host\": \"httpbin.org\", \\n    \"User-Agent\": \"python-requests/2.32.4\", \\n    \"X-Amzn-Trace-Id\": \"Root=1-68871093-6f2f7ff97b78a0360ec0a03a\"\\n  }, \\n  \"json\": null, \\n  \"origin\": \"118.36.174.103\", \\n  \"url\": \"https://httpbin.org/put\"\\n}\\n'"
      ]
     },
     "execution_count": 151,
     "metadata": {},
     "output_type": "execute_result"
    }
   ],
   "source": [
    "response=requests.put('https://httpbin.org/put', data={'key':'value'} )\n",
    "response.text"
   ]
  },
  {
   "cell_type": "code",
   "execution_count": 153,
   "id": "34eeb177",
   "metadata": {},
   "outputs": [
    {
     "name": "stdout",
     "output_type": "stream",
     "text": [
      "{\n",
      "  \"args\": {}, \n",
      "  \"data\": \"\", \n",
      "  \"files\": {}, \n",
      "  \"form\": {\n",
      "    \"key\": \"value\"\n",
      "  }, \n",
      "  \"headers\": {\n",
      "    \"Accept\": \"*/*\", \n",
      "    \"Accept-Encoding\": \"gzip, deflate\", \n",
      "    \"Content-Length\": \"9\", \n",
      "    \"Content-Type\": \"application/x-www-form-urlencoded\", \n",
      "    \"Host\": \"httpbin.org\", \n",
      "    \"User-Agent\": \"python-requests/2.32.4\", \n",
      "    \"X-Amzn-Trace-Id\": \"Root=1-688710ef-5214aef4784846e31703d630\"\n",
      "  }, \n",
      "  \"json\": null, \n",
      "  \"origin\": \"118.36.174.103\", \n",
      "  \"url\": \"https://httpbin.org/patch\"\n",
      "}\n",
      "\n"
     ]
    }
   ],
   "source": [
    "response=requests.patch('https://httpbin.org/patch', data={'key':'value'} )\n",
    "print(response.text)"
   ]
  },
  {
   "cell_type": "code",
   "execution_count": null,
   "id": "d55d192d",
   "metadata": {},
   "outputs": [],
   "source": []
  },
  {
   "cell_type": "markdown",
   "id": "89e509b9",
   "metadata": {},
   "source": [
    "# 도서정보를 담을 객체"
   ]
  },
  {
   "cell_type": "code",
   "execution_count": 20,
   "id": "1c7e942a",
   "metadata": {},
   "outputs": [],
   "source": [
    "class Book:\n",
    "    def __init__(self, rank, title, author, price):\n",
    "        self.rank = rank\n",
    "        self.title = title\n",
    "        self.author = author\n",
    "        self.price = price\n",
    "\n",
    "    def __str__(self):\n",
    "        return f\"{self.rank}, {self.title}, {self.author}, {self.price}\"\n",
    "    \n",
    "    def to_dict(self):\n",
    "        return {'rank':self.rank, \n",
    "                'title':self.title, \n",
    "                'author':self.author, \n",
    "                'price':self.price}\n",
    "    \n",
    "    def to_list(self):\n",
    "        return [self.rank, \n",
    "                self.title, \n",
    "                self.author, \n",
    "                self.price]"
   ]
  },
  {
   "cell_type": "code",
   "execution_count": 11,
   "id": "f778985f",
   "metadata": {},
   "outputs": [
    {
     "data": {
      "text/plain": [
       "<div class=\"item_info\">\n",
       "<div class=\"info_row info_keynote\">\n",
       "<span class=\"gd_keynote\" id=\"spanGdKeynote\">\n",
       "<a class=\"iconC tBook\" href=\"/24/Category/More/001014?ElemNo=13&amp;ElemSeq=1&amp;Gcode=000_030_001\"><em class=\"txt\">오늘의책</em></a>\n",
       "<!-- 클래스24 상품일 경우 -->\n",
       "</span>\n",
       "<script type=\"text/javascript\">\n",
       "        if ($('#spanGdKeynote').children().length == 0) {\n",
       "            $('#spanGdKeynote').remove();\n",
       "        }\n",
       "    </script>\n",
       "</div>\n",
       "<div class=\"info_row info_name\">\n",
       "<span class=\"gd_res\">[도서]</span>\n",
       "<a class=\"gd_name\" href=\"/product/goods/143911524\" onclick=\"wiseLogV2('BS', '001_005_001', ''); \">혼모노</a>\n",
       "<a class=\"bgYUI ico_nWin\" href=\"/product/goods/143911524\" onclick=\"wiseLogV2('BS', '001_005_001', ''); \" target=\"_blank\">혼모노 새창이동</a>\n",
       "</div>\n",
       "<div class=\"info_row info_pubGrp\">\n",
       "<span class=\"authPub info_auth\" onclick=\"wiseLogV2('BS', '001_005_002', '');\">\n",
       "<a href=\"https://www.yes24.com/product/search?domain=ALL&amp;query=%25EC%2584%25B1%25ED%2595%25B4%25EB%2582%2598&amp;authorNo=253719&amp;author=성해나\" target=\"\">성해나</a> 저\n",
       "                            </span>\n",
       "<span class=\"authPub info_pub\" onclick=\"wiseLogV2('BS', '001_005_003', '');\"><a href=\"https://www.yes24.com/product/search?&amp;domain=ALL&amp;company=%ec%b0%bd%eb%b9%84&amp;query=%25EC%25B0%25BD%25EB%25B9%2584\">창비</a></span>\n",
       "<span class=\"authPub info_date\">2025년 03월</span>\n",
       "</div>\n",
       "<dl class=\"info_present\">\n",
       "<dt><em class=\"bgYUI ico_present\">구매혜택</em></dt>\n",
       "<dd>\n",
       "<a href=\"https://event.yes24.com/template?EventNo=260529\">사과 책갈피 선택가능(포인트 차감) </a>\n",
       "</dd>\n",
       "</dl>\n",
       "<div class=\"info_row info_price\">\n",
       "<span class=\"txt_sale\"><em class=\"num\">10</em>%</span>\n",
       "<strong class=\"txt_num\"><em class=\"yes_b\">16,200</em>원</strong>\n",
       "<span class=\"txt_num dash\"><em class=\"yes_m\">18,000</em>원</span>\n",
       "<span class=\"yPoint\"><em class=\"bgYUI ico_point\">포인트적립</em>900원</span>\n",
       "</div>\n",
       "<div class=\"info_row info_rating\">\n",
       "<span class=\"saleNum\">\n",
       "                                판매지수 685,977\n",
       "                            </span>\n",
       "<span class=\"rating_rvCount\">\n",
       "<a href=\"https://www.yes24.com/product/goods/143911524?ReviewYn=Y\" onclick=\"wiseLogV2('BS', '001_005_004', '');\"><em class=\"bit\">회원리뷰</em>(<em class=\"txC_blue\">353</em>건)</a>\n",
       "</span>\n",
       "<span class=\"rating_grade\">\n",
       "<span class=\"bgYUI tRating tRating_10\">리뷰 총점</span><em class=\"yes_b\">9.3</em>\n",
       "<span class=\"moreRatingArea\">\n",
       "<span class=\"moreRatingBtn\">\n",
       "<a class=\"bgYUI\" href=\"javascript:void(0);\" onclick=\"toggleLiCont(this,$('.sGLi'),event);\">정보 더 보기/감추기</a>\n",
       "</span>\n",
       "<span class=\"moreRatingLi\">\n",
       "<span class=\"moreRatingLiRow\">\n",
       "<ul class=\"yesAlertLi\">\n",
       "<li><em class=\"bl_dot bgYUI\"> </em>종이책 리뷰 (157건)</li>\n",
       "<li><em class=\"bl_dot bgYUI\"> </em>eBook 리뷰 (7건)</li>\n",
       "<li><em class=\"bl_dot bgYUI\"> </em>종이책 한줄평 (162건)</li>\n",
       "<li><em class=\"bl_dot bgYUI\"> </em>eBook 한줄평 (27건)</li>\n",
       "</ul>\n",
       "</span>\n",
       "</span>\n",
       "</span>\n",
       "</span>\n",
       "</div>\n",
       "<div class=\"info_row info_deli\" name=\"delvTextArea\"></div>\n",
       "<div class=\"info_row info_tag\">\n",
       "<span class=\"tag\">\n",
       "<a href=\"https://www.yes24.com/product/search?domain=ALL&amp;query=%25ED%2595%259C%25EA%25B5%25AD%25EB%25AC%25B8%25ED%2595%2599%25EC%259D%2598%25EB%25AF%25B8%25EB%259E%2598%25EA%25B0%2580%25EB%2590%25A0%25EC%25A0%258A%25EC%259D%2580%25EC%259E%2591%25EA%25B0%2580&amp;hashNm=%ed%95%9c%ea%b5%ad%eb%ac%b8%ed%95%99%ec%9d%98%eb%af%b8%eb%9e%98%ea%b0%80%eb%90%a0%ec%a0%8a%ec%9d%80%ec%9e%91%ea%b0%80\" onclick=\"wiseLogV2('BS', '001_005_005', ''); setTagClickExtraCode('100', '한국문학의미래가될젊은작가', '143911524','8868');\">#한국문학의미래가될젊은작가</a>\n",
       "</span>\n",
       "<span class=\"tag\">\n",
       "<a href=\"https://www.yes24.com/product/search?domain=ALL&amp;query=%25EB%25AA%25B0%25EC%259E%2585%25ED%2595%2598%25EB%258A%2594%25EB%25B2%2595&amp;hashNm=%eb%aa%b0%ec%9e%85%ed%95%98%eb%8a%94%eb%b2%95\" onclick=\"wiseLogV2('BS', '001_005_005', ''); setTagClickExtraCode('100', '몰입하는법', '143911524','6066');\">#몰입하는법</a>\n",
       "</span>\n",
       "<span class=\"tag\">\n",
       "<a href=\"https://www.yes24.com/product/search?domain=ALL&amp;query=%25ED%2598%2584%25EC%258B%25A4%25EC%259D%2584%25EA%25B7%25B8%25EB%25A0%25B8%25EC%2596%25B4%25EC%259A%2594&amp;hashNm=%ed%98%84%ec%8b%a4%ec%9d%84%ea%b7%b8%eb%a0%b8%ec%96%b4%ec%9a%94\" onclick=\"wiseLogV2('BS', '001_005_005', ''); setTagClickExtraCode('100', '현실을그렸어요', '143911524','2208');\">#현실을그렸어요</a>\n",
       "</span>\n",
       "<span class=\"tag\">\n",
       "<a href=\"https://www.yes24.com/product/search?domain=ALL&amp;query=%25EB%25B8%2594%25EB%259E%2599%25EC%25BD%2594%25EB%25AF%25B8%25EB%2594%2594&amp;hashNm=%eb%b8%94%eb%9e%99%ec%bd%94%eb%af%b8%eb%94%94\" onclick=\"wiseLogV2('BS', '001_005_005', ''); setTagClickExtraCode('100', '블랙코미디', '143911524','1722');\">#블랙코미디</a>\n",
       "</span>\n",
       "</div>\n",
       "<div class=\"info_row info_event\">\n",
       "<div class=\"event\">\n",
       "<span class=\"iconC freeD\"><em class=\"txt\">이벤트</em></span>\n",
       "<span class=\"iconC\"><em class=\"txt\">선착순</em></span>\n",
       "<span class=\"iconC\"><em class=\"txt\">사은품</em></span>\n",
       "<span class=\"iconC\"><em class=\"txt\">기획전</em></span>\n",
       "<span class=\"iconC\"><em class=\"txt\">초대</em></span>\n",
       "<span class=\"txt\"><a href=\"https://event.yes24.com/youngAuthor/2025?p=final\">2025 젊은 작가 투표 1위, 조예은!</a></span>\n",
       "<span class=\"date\">(25.07.16 ~ 25.09.01)</span>\n",
       "</div>\n",
       "</div>\n",
       "<div class=\"info_row info_relG\">\n",
       "                    관련상품 :                            <span class=\"relG\"><a href=\"/product/goods/144649045\">eBook <span class=\"relG_num\">14,400원</span></a></span>\n",
       "</div>\n",
       "</div>"
      ]
     },
     "execution_count": 11,
     "metadata": {},
     "output_type": "execute_result"
    }
   ],
   "source": [
    "book_list = []\n",
    "\n",
    "import requests\n",
    "from bs4 import BeautifulSoup\n",
    "##yesBestList > li:nth-child(1) > div > div.item_info\n",
    "url = 'https://www.yes24.com/Product/Category/BestSeller?categoryNumber=001'\n",
    "res=requests.get(url)\n",
    "soup = BeautifulSoup(res.content, 'html.parser')\n",
    "best_list_el=soup.select('#yesBestList div.item_info')\n",
    "len(best_list_el)\n",
    "best_list_el[0]"
   ]
  },
  {
   "cell_type": "code",
   "execution_count": null,
   "id": "eff065fd",
   "metadata": {},
   "outputs": [
    {
     "name": "stdout",
     "output_type": "stream",
     "text": [
      "혼모노\n",
      "\n",
      "성해나 저\n",
      "                            \n",
      "16,200원\n",
      "류수영의 평생 레시피\n",
      "\n",
      "류수영 저\n",
      "                            \n",
      "22,500원\n",
      "가공범\n",
      "\n",
      "히가시노 게이고 저/김선영 역\n",
      "                            \n",
      "19,800원\n",
      "돌비공포라디오 더 레드\n",
      "\n",
      "돌비 저\n",
      "                            \n",
      "17,820원\n",
      "2025 큰별쌤 최태성의 별별한국사 한국사능력검정시험 심화(1,2,3급) 상\n",
      "\n",
      "최태성 저\n",
      "                            \n",
      "14,850원\n",
      "박곰희 연금 부자 수업\n",
      "\n",
      "박곰희 저\n",
      "                            \n",
      "18,900원\n",
      "2025 큰별쌤 최태성의 별별한국사 기출 500제 한국사능력검정시험 심화(1,2,3급)\n",
      "\n",
      "최태성 저\n",
      "                            \n",
      "17,550원\n",
      "단 한 줄만 내 마음에 새긴다고 해도\n",
      "\n",
      "나민애 저\n",
      "                            \n",
      "21,420원\n",
      "2025 큰별쌤 최태성의 별별한국사 한국사능력검정시험 심화(1,2,3급) 하\n",
      "\n",
      "최태성 저\n",
      "                            \n",
      "14,400원\n",
      "ETS 토익 정기시험 기출문제집 1000 Vol. 4 RC\n",
      "\n",
      "ETS 저\n",
      "                            \n",
      "17,820원\n",
      "ETS 토익 정기시험 기출문제집 1000 Vol. 4 LC\n",
      "\n",
      "ETS 저\n",
      "                            \n",
      "17,820원\n",
      "료의 생각 없는 생각\n",
      "\n",
      "료 저\n",
      "                            \n",
      "18,000원\n",
      "모순\n",
      "\n",
      "양귀자 저\n",
      "                            \n",
      "11,700원\n",
      "안녕이라 그랬어\n",
      "\n",
      "김애란 저\n",
      "                            \n",
      "15,120원\n",
      "자몽살구클럽\n",
      "\n",
      "한로로 저\n",
      "                            \n",
      "10,800원\n",
      "인생을 바꾸는 최고의 ETF\n",
      "\n",
      "잼투리 저\n",
      "                            \n",
      "22,050원\n",
      "청춘의 독서\n",
      "\n",
      "유시민 저\n",
      "                            \n",
      "17,010원\n",
      "소년이 온다\n",
      "\n",
      "한강 저\n",
      "                            \n",
      "13,500원\n",
      "첫 여름, 완주\n",
      "\n",
      "김금희 저\n",
      "                            \n",
      "15,300원\n",
      "경험의 멸종\n",
      "\n",
      "크리스틴 로젠 저/이영래 역\n",
      "                            \n",
      "17,820원\n",
      "어른의 행복은 조용하다\n",
      "\n",
      "태수 저\n",
      "                            \n",
      "16,020원\n",
      "견우와 선녀 대본집 세트\n",
      "\n",
      "양지훈 저\n",
      "                            \n",
      "41,400원\n",
      "어른의 품격을 채우는 100일 필사 노트\n",
      "\n",
      "김종원 저\n",
      "                            \n",
      "18,000원\n",
      "야구선수 김원중\n",
      "\n",
      "김원중, 김하진 저\n",
      "                            \n",
      "18,000원\n",
      "1, 혼모노, \n",
      "성해나 저\n",
      "                            , 16,200원\n",
      "2, 류수영의 평생 레시피, \n",
      "류수영 저\n",
      "                            , 22,500원\n",
      "3, 가공범, \n",
      "히가시노 게이고 저/김선영 역\n",
      "                            , 19,800원\n",
      "4, 돌비공포라디오 더 레드, \n",
      "돌비 저\n",
      "                            , 17,820원\n",
      "5, 2025 큰별쌤 최태성의 별별한국사 한국사능력검정시험 심화(1,2,3급) 상, \n",
      "최태성 저\n",
      "                            , 14,850원\n",
      "6, 박곰희 연금 부자 수업, \n",
      "박곰희 저\n",
      "                            , 18,900원\n",
      "7, 2025 큰별쌤 최태성의 별별한국사 기출 500제 한국사능력검정시험 심화(1,2,3급), \n",
      "최태성 저\n",
      "                            , 17,550원\n",
      "8, 단 한 줄만 내 마음에 새긴다고 해도, \n",
      "나민애 저\n",
      "                            , 21,420원\n",
      "9, 2025 큰별쌤 최태성의 별별한국사 한국사능력검정시험 심화(1,2,3급) 하, \n",
      "최태성 저\n",
      "                            , 14,400원\n",
      "10, ETS 토익 정기시험 기출문제집 1000 Vol. 4 RC, \n",
      "ETS 저\n",
      "                            , 17,820원\n",
      "11, ETS 토익 정기시험 기출문제집 1000 Vol. 4 LC, \n",
      "ETS 저\n",
      "                            , 17,820원\n",
      "12, 료의 생각 없는 생각, \n",
      "료 저\n",
      "                            , 18,000원\n",
      "13, 모순, \n",
      "양귀자 저\n",
      "                            , 11,700원\n",
      "14, 안녕이라 그랬어, \n",
      "김애란 저\n",
      "                            , 15,120원\n",
      "15, 자몽살구클럽, \n",
      "한로로 저\n",
      "                            , 10,800원\n",
      "16, 인생을 바꾸는 최고의 ETF, \n",
      "잼투리 저\n",
      "                            , 22,050원\n",
      "17, 청춘의 독서, \n",
      "유시민 저\n",
      "                            , 17,010원\n",
      "18, 소년이 온다, \n",
      "한강 저\n",
      "                            , 13,500원\n",
      "19, 첫 여름, 완주, \n",
      "김금희 저\n",
      "                            , 15,300원\n",
      "20, 경험의 멸종, \n",
      "크리스틴 로젠 저/이영래 역\n",
      "                            , 17,820원\n",
      "21, 어른의 행복은 조용하다, \n",
      "태수 저\n",
      "                            , 16,020원\n",
      "22, 견우와 선녀 대본집 세트, \n",
      "양지훈 저\n",
      "                            , 41,400원\n",
      "23, 어른의 품격을 채우는 100일 필사 노트, \n",
      "김종원 저\n",
      "                            , 18,000원\n",
      "24, 야구선수 김원중, \n",
      "김원중, 김하진 저\n",
      "                            , 18,000원\n"
     ]
    }
   ],
   "source": [
    "book_list = []\n",
    "\n",
    "for i, item in enumerate(best_list_el):\n",
    "   title= item.select_one('div.info_name > a').text\n",
    "   print(title)\n",
    "   author = item.select_one('.info_auth').text\n",
    "   print(author)\n",
    "   price = item.select_one('div.info_price .txt_num').text\n",
    "   print(price)\n",
    "   book_list.append(Book(i+1,title, author, price))\n",
    "   \n",
    "\n",
    "for book in book_list:\n",
    "   print(book)"
   ]
  },
  {
   "cell_type": "code",
   "execution_count": 202,
   "id": "dccd31e0",
   "metadata": {},
   "outputs": [
    {
     "name": "stdout",
     "output_type": "stream",
     "text": [
      "1, 혼모노, \n",
      "성해나 저\n",
      "                            , 16,200원\n",
      "2, 류수영의 평생 레시피, \n",
      "류수영 저\n",
      "                            , 22,500원\n",
      "3, 가공범, \n",
      "히가시노 게이고 저/김선영 역\n",
      "                            , 19,800원\n",
      "4, 돌비공포라디오 더 레드, \n",
      "돌비 저\n",
      "                            , 17,820원\n",
      "5, 2025 큰별쌤 최태성의 별별한국사 한국사능력검정시험 심화(1,2,3급) 상, \n",
      "최태성 저\n",
      "                            , 14,850원\n",
      "6, 박곰희 연금 부자 수업, \n",
      "박곰희 저\n",
      "                            , 18,900원\n",
      "7, 2025 큰별쌤 최태성의 별별한국사 기출 500제 한국사능력검정시험 심화(1,2,3급), \n",
      "최태성 저\n",
      "                            , 17,550원\n",
      "8, 단 한 줄만 내 마음에 새긴다고 해도, \n",
      "나민애 저\n",
      "                            , 21,420원\n",
      "9, 2025 큰별쌤 최태성의 별별한국사 한국사능력검정시험 심화(1,2,3급) 하, \n",
      "최태성 저\n",
      "                            , 14,400원\n",
      "10, ETS 토익 정기시험 기출문제집 1000 Vol. 4 RC, \n",
      "ETS 저\n",
      "                            , 17,820원\n",
      "11, ETS 토익 정기시험 기출문제집 1000 Vol. 4 LC, \n",
      "ETS 저\n",
      "                            , 17,820원\n",
      "12, 료의 생각 없는 생각, \n",
      "료 저\n",
      "                            , 18,000원\n",
      "13, 모순, \n",
      "양귀자 저\n",
      "                            , 11,700원\n",
      "14, 안녕이라 그랬어, \n",
      "김애란 저\n",
      "                            , 15,120원\n",
      "15, 자몽살구클럽, \n",
      "한로로 저\n",
      "                            , 10,800원\n",
      "16, 인생을 바꾸는 최고의 ETF, \n",
      "잼투리 저\n",
      "                            , 22,050원\n",
      "17, 청춘의 독서, \n",
      "유시민 저\n",
      "                            , 17,010원\n",
      "18, 소년이 온다, \n",
      "한강 저\n",
      "                            , 13,500원\n",
      "19, 첫 여름, 완주, \n",
      "김금희 저\n",
      "                            , 15,300원\n",
      "20, 경험의 멸종, \n",
      "크리스틴 로젠 저/이영래 역\n",
      "                            , 17,820원\n",
      "21, 어른의 행복은 조용하다, \n",
      "태수 저\n",
      "                            , 16,020원\n",
      "22, 견우와 선녀 대본집 세트, \n",
      "양지훈 저\n",
      "                            , 41,400원\n",
      "23, 어른의 품격을 채우는 100일 필사 노트, \n",
      "김종원 저\n",
      "                            , 18,000원\n",
      "24, 야구선수 김원중, \n",
      "김원중, 김하진 저\n",
      "                            , 18,000원\n"
     ]
    }
   ],
   "source": [
    "for book in book_list:\n",
    "   print(book)"
   ]
  },
  {
   "cell_type": "code",
   "execution_count": 217,
   "id": "3cd8e4b1",
   "metadata": {},
   "outputs": [],
   "source": [
    "query='''CREATE TABLE IF NOT EXISTS BOOKS(ID INTEGER PRIMARY KEY AUTOINCREMENT,\n",
    "        RANK INTEGER,\n",
    "        TITLE TEXT,\n",
    "        AUTHOR TEXT,\n",
    "        PRICE INTEGER\n",
    "        )\n",
    "        ''' "
   ]
  },
  {
   "cell_type": "code",
   "execution_count": 218,
   "id": "d257ef7e",
   "metadata": {},
   "outputs": [],
   "source": [
    "import sqlite3\n",
    "conn = sqlite3.connect('my_database.db')\n",
    "cursor = conn.cursor()\n",
    "cursor.execute(query)\n",
    "conn.commit()\n",
    "conn.close()\n",
    "\n"
   ]
  },
  {
   "cell_type": "code",
   "execution_count": 221,
   "id": "6cae9798",
   "metadata": {},
   "outputs": [],
   "source": [
    "ins_query =''' \n",
    "INSERT INTO books(rank, title, author, price) VALUES (?,?,?,?)\n",
    "'''"
   ]
  },
  {
   "cell_type": "code",
   "execution_count": null,
   "id": "a81a0137",
   "metadata": {},
   "outputs": [],
   "source": [
    "\n",
    "conn = sqlite3.connect('my_database.db')\n",
    "cursor = conn.cursor()\n",
    "\n",
    "for book in book_list:\n",
    "    cursor.execute(ins_query, book.to_list())\n",
    "\n",
    "conn.commit()\n",
    "conn.close()\n"
   ]
  },
  {
   "cell_type": "code",
   "execution_count": 228,
   "id": "7d829840",
   "metadata": {},
   "outputs": [],
   "source": [
    "sel_query =''' \n",
    "SELECT * FROM books\n",
    "'''"
   ]
  },
  {
   "cell_type": "code",
   "execution_count": 290,
   "id": "889df50a",
   "metadata": {},
   "outputs": [
    {
     "name": "stdout",
     "output_type": "stream",
     "text": [
      "(1, 1, '혼모노', '\\n성해나 저\\r\\n                            ', '16,200원')\n",
      "(2, 2, '류수영의 평생 레시피', '\\n류수영 저\\r\\n                            ', '22,500원')\n",
      "(3, 3, '가공범', '\\n히가시노 게이고 저/김선영 역\\r\\n                            ', '19,800원')\n",
      "(4, 4, '돌비공포라디오 더 레드', '\\n돌비 저\\r\\n                            ', '17,820원')\n",
      "(5, 5, '2025 큰별쌤 최태성의 별별한국사 한국사능력검정시험 심화(1,2,3급) 상', '\\n최태성 저\\r\\n                            ', '14,850원')\n",
      "(6, 6, '박곰희 연금 부자 수업', '\\n박곰희 저\\r\\n                            ', '18,900원')\n",
      "(7, 7, '2025 큰별쌤 최태성의 별별한국사 기출 500제 한국사능력검정시험 심화(1,2,3급)', '\\n최태성 저\\r\\n                            ', '17,550원')\n",
      "(8, 8, '단 한 줄만 내 마음에 새긴다고 해도', '\\n나민애 저\\r\\n                            ', '21,420원')\n",
      "(9, 9, '2025 큰별쌤 최태성의 별별한국사 한국사능력검정시험 심화(1,2,3급) 하', '\\n최태성 저\\r\\n                            ', '14,400원')\n",
      "(10, 10, 'ETS 토익 정기시험 기출문제집 1000 Vol. 4 RC', '\\nETS 저\\r\\n                            ', '17,820원')\n",
      "(11, 11, 'ETS 토익 정기시험 기출문제집 1000 Vol. 4 LC', '\\nETS 저\\r\\n                            ', '17,820원')\n",
      "(12, 12, '료의 생각 없는 생각', '\\n료 저\\r\\n                            ', '18,000원')\n",
      "(13, 13, '모순', '\\n양귀자 저\\r\\n                            ', '11,700원')\n",
      "(14, 14, '안녕이라 그랬어', '\\n김애란 저\\r\\n                            ', '15,120원')\n",
      "(15, 15, '자몽살구클럽', '\\n한로로 저\\r\\n                            ', '10,800원')\n",
      "(16, 16, '인생을 바꾸는 최고의 ETF', '\\n잼투리 저\\r\\n                            ', '22,050원')\n",
      "(17, 17, '청춘의 독서', '\\n유시민 저\\r\\n                            ', '17,010원')\n",
      "(18, 18, '소년이 온다', '\\n한강 저\\r\\n                            ', '13,500원')\n",
      "(19, 19, '첫 여름, 완주', '\\n김금희 저\\r\\n                            ', '15,300원')\n",
      "(20, 20, '경험의 멸종', '\\n크리스틴 로젠 저/이영래 역\\r\\n                            ', '17,820원')\n",
      "(21, 21, '어른의 행복은 조용하다', '\\n태수 저\\r\\n                            ', '16,020원')\n",
      "(22, 22, '견우와 선녀 대본집 세트', '\\n양지훈 저\\r\\n                            ', '41,400원')\n",
      "(23, 23, '어른의 품격을 채우는 100일 필사 노트', '\\n김종원 저\\r\\n                            ', '18,000원')\n",
      "(24, 24, '야구선수 김원중', '\\n김원중, 김하진 저\\r\\n                            ', '18,000원')\n"
     ]
    }
   ],
   "source": [
    "sel_query =''' \n",
    "SELECT * FROM books\n",
    "'''\n",
    "conn = sqlite3.connect('my_database.db')\n",
    "cursor = conn.cursor()\n",
    "cursor.execute(sel_query)\n",
    "updated_rows = cursor.fetchall()\n",
    "for db in updated_rows:\n",
    "    print(db)\n",
    "\n",
    "conn.commit()\n",
    "conn.close()"
   ]
  },
  {
   "cell_type": "code",
   "execution_count": 288,
   "id": "62f8a6f0",
   "metadata": {},
   "outputs": [
    {
     "name": "stdout",
     "output_type": "stream",
     "text": [
      "(10, 'ACCOUNTING', 'NEW YORK')\n",
      "(20, 'RESEARCH', 'DALLAS')\n",
      "(30, 'SALES', 'CHICAGO')\n",
      "(40, 'OPERATIONS', 'BOSTON')\n"
     ]
    }
   ],
   "source": [
    "import mysql.connector\n",
    "# MySQL 서버에 연결\n",
    "\n",
    "conn = mysql.connector.connect(\n",
    " host='localhost', # 호스트 이름\n",
    " user='root', # MySQL 사용자 이름\n",
    " password='1234', # MySQL 사용자 비밀번호\n",
    " database='my_db' # 연결할 데이터베이스 이름\n",
    ")\n",
    "# 커서 생성\n",
    "cursor = conn.cursor()\n",
    "# 쿼리 실행 예시\n",
    "sql_query = \"SELECT * FROM dept\"\n",
    "cursor.execute(sql_query)\n",
    "# 쿼리 결과 가져오기\n",
    "result = cursor.fetchall()\n",
    "# 결과 출력\n",
    "for row in result:\n",
    " print(row)\n",
    "# 연결과 커서 닫기\n",
    "cursor.close()\n",
    "conn.close()"
   ]
  },
  {
   "cell_type": "code",
   "execution_count": 16,
   "id": "dc29b619",
   "metadata": {},
   "outputs": [],
   "source": [
    "def fetch_book_list_from_db():\n",
    "    conn = sqlite3.connect('my_database.db')\n",
    "    cursor = conn.cursor()\n",
    "    try:\n",
    "        row = cursor.execute('select * from books')\n",
    "        rows = cursor.fetchall()\n",
    "        return rows\n",
    "    finally:\n",
    "        conn.close()\n",
    "    "
   ]
  },
  {
   "cell_type": "code",
   "execution_count": 18,
   "id": "bfeda1fa",
   "metadata": {},
   "outputs": [],
   "source": [
    "book_list = fetch_book_list_from_db\n"
   ]
  },
  {
   "cell_type": "code",
   "execution_count": 17,
   "id": "f454d95e",
   "metadata": {},
   "outputs": [
    {
     "ename": "NameError",
     "evalue": "name 'sqlite3' is not defined",
     "output_type": "error",
     "traceback": [
      "\u001b[1;31m---------------------------------------------------------------------------\u001b[0m",
      "\u001b[1;31mNameError\u001b[0m                                 Traceback (most recent call last)",
      "Cell \u001b[1;32mIn[17], line 1\u001b[0m\n\u001b[1;32m----> 1\u001b[0m book_list \u001b[38;5;241m=\u001b[39m \u001b[43mfetch_book_list_from_db\u001b[49m\u001b[43m(\u001b[49m\u001b[43m)\u001b[49m\n\u001b[0;32m      3\u001b[0m \u001b[38;5;66;03m# 2. 결과 출력: book_list에 저장된 내용을 반복하여 출력합니다.\u001b[39;00m\n\u001b[0;32m      4\u001b[0m \u001b[38;5;28;01mif\u001b[39;00m book_list: \u001b[38;5;66;03m# book_list가 비어있지 않다면\u001b[39;00m\n",
      "Cell \u001b[1;32mIn[16], line 2\u001b[0m, in \u001b[0;36mfetch_book_list_from_db\u001b[1;34m()\u001b[0m\n\u001b[0;32m      1\u001b[0m \u001b[38;5;28;01mdef\u001b[39;00m\u001b[38;5;250m \u001b[39m\u001b[38;5;21mfetch_book_list_from_db\u001b[39m():\n\u001b[1;32m----> 2\u001b[0m     conn \u001b[38;5;241m=\u001b[39m \u001b[43msqlite3\u001b[49m\u001b[38;5;241m.\u001b[39mconnect(\u001b[38;5;124m'\u001b[39m\u001b[38;5;124mmy_database.db\u001b[39m\u001b[38;5;124m'\u001b[39m)\n\u001b[0;32m      3\u001b[0m     cursor \u001b[38;5;241m=\u001b[39m conn\u001b[38;5;241m.\u001b[39mcursor()\n\u001b[0;32m      4\u001b[0m     \u001b[38;5;28;01mtry\u001b[39;00m:\n",
      "\u001b[1;31mNameError\u001b[0m: name 'sqlite3' is not defined"
     ]
    }
   ],
   "source": [
    "book_list = fetch_book_list_from_db()\n",
    "\n",
    "# 2. 결과 출력: book_list에 저장된 내용을 반복하여 출력합니다.\n",
    "if book_list: # book_list가 비어있지 않다면\n",
    "    print(\"--- 가져온 책 목록 ---\")\n",
    "    for index, book in enumerate(book_list):\n",
    "        # book 변수에는 튜플 형태로 각 행의 데이터가 들어있습니다.\n",
    "  \n",
    "        print(f\"[{index}] ID: {book[0]}, RANK: {book[1]}, 제목: {book[2]}, 저자: {book[3]}, 가격: {book[4]}\")\n",
    "else: \n",
    "    print(\"가져올 책이 없거나 데이터베이스 연결에 문제가 있었습니다.\")\n"
   ]
  },
  {
   "cell_type": "code",
   "execution_count": null,
   "id": "77697a3f",
   "metadata": {},
   "outputs": [],
   "source": [
    "ins_query =''' \n",
    "INSERT INTO books(rank, title, author, price) VALUES (?,?,?,?)\n",
    "'''\n",
    "\n",
    "\n",
    "\n",
    "conn = sqlite3.connect('my_database.db')\n",
    "cursor = conn.cursor()\n",
    "\n",
    "for book in book_list:\n",
    "    cursor.execute(ins_query, book.to_list())\n",
    "\n",
    "conn.commit()\n",
    "conn.close()"
   ]
  },
  {
   "cell_type": "code",
   "execution_count": 280,
   "id": "15f92d24",
   "metadata": {},
   "outputs": [],
   "source": [
    "#for book in enumerate (books):\n",
    "#  print(book)\n"
   ]
  },
  {
   "cell_type": "code",
   "execution_count": null,
   "id": "e0500e1a",
   "metadata": {},
   "outputs": [],
   "source": [
    "#https://www.yes24.com/product/category/bestseller?categoryNumber=001&pageNumber=1&pageSize=24\n",
    "#https://www.yes24.com/product/category/bestseller?categoryNumber=001&pageNumber=2&pageSize=24"
   ]
  },
  {
   "cell_type": "code",
   "execution_count": 314,
   "id": "73aaa789",
   "metadata": {},
   "outputs": [],
   "source": [
    "ins_query =''' \n",
    "INSERT INTO books(rank, title, author, price) VALUES (?,?,?,?)\n",
    "'''"
   ]
  },
  {
   "cell_type": "code",
   "execution_count": null,
   "id": "60674fba",
   "metadata": {},
   "outputs": [
    {
     "name": "stdout",
     "output_type": "stream",
     "text": [
      "혼모노\n",
      "\n",
      "성해나 저\n",
      "                            \n",
      "16,200원\n"
     ]
    },
    {
     "ename": "NameError",
     "evalue": "name 'Book' is not defined",
     "output_type": "error",
     "traceback": [
      "\u001b[1;31m---------------------------------------------------------------------------\u001b[0m",
      "\u001b[1;31mNameError\u001b[0m                                 Traceback (most recent call last)",
      "Cell \u001b[1;32mIn[3], line 16\u001b[0m\n\u001b[0;32m     14\u001b[0m         price \u001b[38;5;241m=\u001b[39m item\u001b[38;5;241m.\u001b[39mselect_one(\u001b[38;5;124m'\u001b[39m\u001b[38;5;124mdiv.info_price .txt_num\u001b[39m\u001b[38;5;124m'\u001b[39m)\u001b[38;5;241m.\u001b[39mtext\n\u001b[0;32m     15\u001b[0m         \u001b[38;5;28mprint\u001b[39m(price)\n\u001b[1;32m---> 16\u001b[0m         book_list\u001b[38;5;241m.\u001b[39mappend(\u001b[43mBook\u001b[49m(i\u001b[38;5;241m+\u001b[39m\u001b[38;5;241m1\u001b[39m,title, author, price))\n\u001b[0;32m     18\u001b[0m         \u001b[38;5;66;03m#print(url\u001b[39;00m\n\u001b[0;32m     19\u001b[0m \u001b[38;5;28mlen\u001b[39m(book_list)\n",
      "\u001b[1;31mNameError\u001b[0m: name 'Book' is not defined"
     ]
    }
   ],
   "source": [
    "base_url = 'https://www.yes24.com/product/category/bestseller?categoryNumber=001&pageSize=24&pageNumber='\n",
    "page_no =3 \n",
    "book_list = []\n",
    "for page in range(1, page_no+1):\n",
    "    url= f'{base_url}{page}'\n",
    "    res = requests.get(url)\n",
    "    soup = BeautifulSoup(res.content,'html.parser')\n",
    "    best_list_el = soup.select('#yesBestList div.item_info')\n",
    "    for i, item in enumerate(best_list_el):\n",
    "        title= item.select_one('div.info_name > a').text\n",
    "        print(title)\n",
    "        author = item.select_one('.info_auth').text\n",
    "        print(author)\n",
    "        price = item.select_one('div.info_price .txt_num').text\n",
    "        print(price)\n",
    "        book_list.append(Book(i+1,title, author, price))\n",
    "\n",
    "        #print(url\n",
    "len(book_list)\n",
    "\n",
    "\n",
    "\n",
    "ins_query =''' \n",
    "INSERT INTO books(rank, title, author, price) VALUES (?,?,?,?)\n",
    "'''\n",
    "\n",
    "\n",
    "conn = sqlite3.connect('my_database.db')\n",
    "cursor = conn.cursor()\n",
    "\n",
    "for book in book_list:\n",
    "    cursor.execute(ins_query, book.to_list())\n",
    "\n",
    "conn.commit()\n",
    "conn.close()\n"
   ]
  },
  {
   "cell_type": "code",
   "execution_count": 321,
   "id": "24657470",
   "metadata": {},
   "outputs": [
    {
     "name": "stdout",
     "output_type": "stream",
     "text": [
      "--- 가져온 책 목록 ---\n",
      "[0] ID: 1, RANK: 1, 제목: 혼모노, 저자: \n",
      "성해나 저\n",
      "                            , 가격: 16,200원\n",
      "[1] ID: 2, RANK: 2, 제목: 류수영의 평생 레시피, 저자: \n",
      "류수영 저\n",
      "                            , 가격: 22,500원\n",
      "[2] ID: 3, RANK: 3, 제목: 가공범, 저자: \n",
      "히가시노 게이고 저/김선영 역\n",
      "                            , 가격: 19,800원\n",
      "[3] ID: 4, RANK: 4, 제목: 돌비공포라디오 더 레드, 저자: \n",
      "돌비 저\n",
      "                            , 가격: 17,820원\n",
      "[4] ID: 5, RANK: 5, 제목: 2025 큰별쌤 최태성의 별별한국사 한국사능력검정시험 심화(1,2,3급) 상, 저자: \n",
      "최태성 저\n",
      "                            , 가격: 14,850원\n",
      "[5] ID: 6, RANK: 6, 제목: 박곰희 연금 부자 수업, 저자: \n",
      "박곰희 저\n",
      "                            , 가격: 18,900원\n",
      "[6] ID: 7, RANK: 7, 제목: 2025 큰별쌤 최태성의 별별한국사 기출 500제 한국사능력검정시험 심화(1,2,3급), 저자: \n",
      "최태성 저\n",
      "                            , 가격: 17,550원\n",
      "[7] ID: 8, RANK: 8, 제목: 단 한 줄만 내 마음에 새긴다고 해도, 저자: \n",
      "나민애 저\n",
      "                            , 가격: 21,420원\n",
      "[8] ID: 9, RANK: 9, 제목: 2025 큰별쌤 최태성의 별별한국사 한국사능력검정시험 심화(1,2,3급) 하, 저자: \n",
      "최태성 저\n",
      "                            , 가격: 14,400원\n",
      "[9] ID: 10, RANK: 10, 제목: ETS 토익 정기시험 기출문제집 1000 Vol. 4 RC, 저자: \n",
      "ETS 저\n",
      "                            , 가격: 17,820원\n",
      "[10] ID: 11, RANK: 11, 제목: ETS 토익 정기시험 기출문제집 1000 Vol. 4 LC, 저자: \n",
      "ETS 저\n",
      "                            , 가격: 17,820원\n",
      "[11] ID: 12, RANK: 12, 제목: 료의 생각 없는 생각, 저자: \n",
      "료 저\n",
      "                            , 가격: 18,000원\n",
      "[12] ID: 13, RANK: 13, 제목: 모순, 저자: \n",
      "양귀자 저\n",
      "                            , 가격: 11,700원\n",
      "[13] ID: 14, RANK: 14, 제목: 안녕이라 그랬어, 저자: \n",
      "김애란 저\n",
      "                            , 가격: 15,120원\n",
      "[14] ID: 15, RANK: 15, 제목: 자몽살구클럽, 저자: \n",
      "한로로 저\n",
      "                            , 가격: 10,800원\n",
      "[15] ID: 16, RANK: 16, 제목: 인생을 바꾸는 최고의 ETF, 저자: \n",
      "잼투리 저\n",
      "                            , 가격: 22,050원\n",
      "[16] ID: 17, RANK: 17, 제목: 청춘의 독서, 저자: \n",
      "유시민 저\n",
      "                            , 가격: 17,010원\n",
      "[17] ID: 18, RANK: 18, 제목: 소년이 온다, 저자: \n",
      "한강 저\n",
      "                            , 가격: 13,500원\n",
      "[18] ID: 19, RANK: 19, 제목: 첫 여름, 완주, 저자: \n",
      "김금희 저\n",
      "                            , 가격: 15,300원\n",
      "[19] ID: 20, RANK: 20, 제목: 경험의 멸종, 저자: \n",
      "크리스틴 로젠 저/이영래 역\n",
      "                            , 가격: 17,820원\n",
      "[20] ID: 21, RANK: 21, 제목: 어른의 행복은 조용하다, 저자: \n",
      "태수 저\n",
      "                            , 가격: 16,020원\n",
      "[21] ID: 22, RANK: 22, 제목: 견우와 선녀 대본집 세트, 저자: \n",
      "양지훈 저\n",
      "                            , 가격: 41,400원\n",
      "[22] ID: 23, RANK: 23, 제목: 어른의 품격을 채우는 100일 필사 노트, 저자: \n",
      "김종원 저\n",
      "                            , 가격: 18,000원\n",
      "[23] ID: 24, RANK: 24, 제목: 야구선수 김원중, 저자: \n",
      "김원중, 김하진 저\n",
      "                            , 가격: 18,000원\n",
      "[24] ID: 25, RANK: 1, 제목: 혼모노, 저자: \n",
      "성해나 저\n",
      "                            , 가격: 16,200원\n",
      "[25] ID: 26, RANK: 2, 제목: 류수영의 평생 레시피, 저자: \n",
      "류수영 저\n",
      "                            , 가격: 22,500원\n",
      "[26] ID: 27, RANK: 3, 제목: 가공범, 저자: \n",
      "히가시노 게이고 저/김선영 역\n",
      "                            , 가격: 19,800원\n",
      "[27] ID: 28, RANK: 4, 제목: 돌비공포라디오 더 레드, 저자: \n",
      "돌비 저\n",
      "                            , 가격: 17,820원\n",
      "[28] ID: 29, RANK: 5, 제목: 2025 큰별쌤 최태성의 별별한국사 한국사능력검정시험 심화(1,2,3급) 상, 저자: \n",
      "최태성 저\n",
      "                            , 가격: 14,850원\n",
      "[29] ID: 30, RANK: 6, 제목: 박곰희 연금 부자 수업, 저자: \n",
      "박곰희 저\n",
      "                            , 가격: 18,900원\n",
      "[30] ID: 31, RANK: 7, 제목: 2025 큰별쌤 최태성의 별별한국사 기출 500제 한국사능력검정시험 심화(1,2,3급), 저자: \n",
      "최태성 저\n",
      "                            , 가격: 17,550원\n",
      "[31] ID: 32, RANK: 8, 제목: 단 한 줄만 내 마음에 새긴다고 해도, 저자: \n",
      "나민애 저\n",
      "                            , 가격: 21,420원\n",
      "[32] ID: 33, RANK: 9, 제목: 2025 큰별쌤 최태성의 별별한국사 한국사능력검정시험 심화(1,2,3급) 하, 저자: \n",
      "최태성 저\n",
      "                            , 가격: 14,400원\n",
      "[33] ID: 34, RANK: 10, 제목: ETS 토익 정기시험 기출문제집 1000 Vol. 4 RC, 저자: \n",
      "ETS 저\n",
      "                            , 가격: 17,820원\n",
      "[34] ID: 35, RANK: 11, 제목: ETS 토익 정기시험 기출문제집 1000 Vol. 4 LC, 저자: \n",
      "ETS 저\n",
      "                            , 가격: 17,820원\n",
      "[35] ID: 36, RANK: 12, 제목: 료의 생각 없는 생각, 저자: \n",
      "료 저\n",
      "                            , 가격: 18,000원\n",
      "[36] ID: 37, RANK: 13, 제목: 모순, 저자: \n",
      "양귀자 저\n",
      "                            , 가격: 11,700원\n",
      "[37] ID: 38, RANK: 14, 제목: 안녕이라 그랬어, 저자: \n",
      "김애란 저\n",
      "                            , 가격: 15,120원\n",
      "[38] ID: 39, RANK: 15, 제목: 자몽살구클럽, 저자: \n",
      "한로로 저\n",
      "                            , 가격: 10,800원\n",
      "[39] ID: 40, RANK: 16, 제목: 인생을 바꾸는 최고의 ETF, 저자: \n",
      "잼투리 저\n",
      "                            , 가격: 22,050원\n",
      "[40] ID: 41, RANK: 17, 제목: 청춘의 독서, 저자: \n",
      "유시민 저\n",
      "                            , 가격: 17,010원\n",
      "[41] ID: 42, RANK: 18, 제목: 소년이 온다, 저자: \n",
      "한강 저\n",
      "                            , 가격: 13,500원\n",
      "[42] ID: 43, RANK: 19, 제목: 첫 여름, 완주, 저자: \n",
      "김금희 저\n",
      "                            , 가격: 15,300원\n",
      "[43] ID: 44, RANK: 20, 제목: 경험의 멸종, 저자: \n",
      "크리스틴 로젠 저/이영래 역\n",
      "                            , 가격: 17,820원\n",
      "[44] ID: 45, RANK: 21, 제목: 어른의 행복은 조용하다, 저자: \n",
      "태수 저\n",
      "                            , 가격: 16,020원\n",
      "[45] ID: 46, RANK: 22, 제목: 견우와 선녀 대본집 세트, 저자: \n",
      "양지훈 저\n",
      "                            , 가격: 41,400원\n",
      "[46] ID: 47, RANK: 23, 제목: 어른의 품격을 채우는 100일 필사 노트, 저자: \n",
      "김종원 저\n",
      "                            , 가격: 18,000원\n",
      "[47] ID: 48, RANK: 24, 제목: 야구선수 김원중, 저자: \n",
      "김원중, 김하진 저\n",
      "                            , 가격: 18,000원\n",
      "[48] ID: 49, RANK: 1, 제목: 다크 심리학, 저자: \n",
      "다크 사이드 프로젝트 저\n",
      "                            , 가격: 19,710원\n",
      "[49] ID: 50, RANK: 2, 제목: 궤도, 저자: \n",
      "서맨사 하비 저/송예슬 역\n",
      "                            , 가격: 15,300원\n",
      "[50] ID: 51, RANK: 3, 제목: 먹어 보면 알지 : 호랑수박의 전설, 저자: \n",
      "이지은 글그림\n",
      "                            , 가격: 15,300원\n",
      "[51] ID: 52, RANK: 4, 제목: 해커스 토익 기출 VOCA (보카), 저자: \n",
      "David Cho 저\n",
      "                            , 가격: 11,610원\n",
      "[52] ID: 53, RANK: 5, 제목: 2026 유휘운 행정법총론 요약노트+기출문제 (요.플.), 저자: \n",
      "유휘운 저\n",
      "                            , 가격: 31,500원\n",
      "[53] ID: 54, RANK: 6, 제목: 편안함의 습격, 저자: \n",
      "마이클 이스터 저/김원진 역\n",
      "                            , 가격: 19,800원\n",
      "[54] ID: 55, RANK: 7, 제목: 러닝&마라톤 무작정 따라하기, 저자: \n",
      "김병현, 배성훈, 문보성, 엔듀로레이스 저\n",
      "                            , 가격: 24,750원\n",
      "[55] ID: 56, RANK: 8, 제목: 푸른 사자 와니니 8, 저자: \n",
      "이현 글/오윤화 그림\n",
      "                            , 가격: 12,420원\n",
      "[56] ID: 57, RANK: 9, 제목: 급류, 저자: \n",
      "정대건 저\n",
      "                            , 가격: 12,600원\n",
      "[57] ID: 58, RANK: 10, 제목: 단 한 번의 삶, 저자: \n",
      "김영하 저\n",
      "                            , 가격: 15,120원\n",
      "[58] ID: 59, RANK: 11, 제목: 글로벌 주식 투자 빅 시프트, 저자: \n",
      "메리츠증권 리서치센터 저\n",
      "                            , 가격: 29,700원\n",
      "[59] ID: 60, RANK: 12, 제목: 2026 써니 행정법총론 기본서, 저자: \n",
      "박준철 편저\n",
      "                            , 가격: 38,700원\n",
      "[60] ID: 61, RANK: 13, 제목: 초역 부처의 말, 저자: \n",
      "코이케 류노스케 저/박재현 역\n",
      "                            , 가격: 16,020원\n",
      "[61] ID: 62, RANK: 14, 제목: 고양이 해결사 깜냥 8, 저자: \n",
      "홍민정 글/김재희 그림\n",
      "                            , 가격: 12,600원\n",
      "[62] ID: 63, RANK: 15, 제목: 초보자를 단숨에 고수로 만드는 주식투자 핵심 수업, 저자: \n",
      "이정윤 저\n",
      "                            , 가격: 22,500원\n",
      "[63] ID: 64, RANK: 16, 제목: 윈드 브레이커 9~10 세트, 저자: \n",
      "니이 사토루 글그림\n",
      "                            , 가격: 10,800원\n",
      "[64] ID: 65, RANK: 17, 제목: 새로운 질서, 저자: \n",
      "헨리 A. 키신저, 에릭 슈미트, 크레이그 먼디 저/이현 역\n",
      "                            , 가격: 17,820원\n",
      "[65] ID: 66, RANK: 18, 제목: 위버멘쉬, 저자: \n",
      "프리드리히 니체 저\n",
      "                            , 가격: 16,020원\n",
      "[66] ID: 67, RANK: 19, 제목: 너에게 들려주는 꿋꿋한 말, 저자: \n",
      "김종원 저\n",
      "                            , 가격: 16,200원\n",
      "[67] ID: 68, RANK: 20, 제목: 드디어 만나는 해부학 수업, 저자: \n",
      "케빈 랭포드 저/안은미 역\n",
      "                            , 가격: 17,910원\n",
      "[68] ID: 69, RANK: 21, 제목: SQL 자격검정 실전문제, 저자: \n",
      "한국데이터진흥원 저\n",
      "                            , 가격: 17,460원\n",
      "[69] ID: 70, RANK: 22, 제목: 큰별쌤 최태성의 별별한국사 시대별 기출문제집 한국사능력검정시험 심화(1,2,3급), 저자: \n",
      "최태성 저\n",
      "                            , 가격: 17,730원\n",
      "[70] ID: 71, RANK: 23, 제목: 관상진료학, 저자: \n",
      "마창석 저\n",
      "                            , 가격: 22,500원\n",
      "[71] ID: 72, RANK: 24, 제목: 너에게 들려주는 단단한 말, 저자: \n",
      "김종원 저\n",
      "                            , 가격: 16,200원\n",
      "[72] ID: 73, RANK: 1, 제목: 노션 템플릿 상점, 저자: \n",
      "Rei 저/노슈니 감수\n",
      "                            , 가격: 19,800원\n",
      "[73] ID: 74, RANK: 2, 제목: 고전이 답했다 마땅히 가져야 할 부에 대하여, 저자: \n",
      "고명환 저\n",
      "                            , 가격: 16,020원\n",
      "[74] ID: 75, RANK: 3, 제목: 미술관에 간 할미, 저자: \n",
      "할미 저\n",
      "                            , 가격: 18,900원\n",
      "[75] ID: 76, RANK: 4, 제목: 해커스 일본어 첫걸음 : 일본어 기초 20일 독학 완성!, 저자: \n",
      "해커스 일본어연구소 저\n",
      "                            , 가격: 12,510원\n",
      "[76] ID: 77, RANK: 5, 제목: 진조쌤 35일 기적의 수영책, 저자: \n",
      "진종남 저\n",
      "                            , 가격: 15,750원\n",
      "[77] ID: 78, RANK: 6, 제목: 장미와 나이프, 저자: \n",
      "히가시노 게이고 저/김윤경 역\n",
      "                            , 가격: 16,200원\n",
      "[78] ID: 79, RANK: 7, 제목: 듀얼 브레인, 저자: \n",
      "이선 몰릭 저/신동숙 역\n",
      "                            , 가격: 18,900원\n",
      "[79] ID: 80, RANK: 8, 제목: 하루 한 장 나의 어휘력을 위한 필사 노트, 저자: \n",
      "유선경 저\n",
      "                            , 가격: 21,420원\n",
      "[80] ID: 81, RANK: 9, 제목: 도둑맞은 권력, 진짜 보수, 저자: \n",
      "윤석만 저\n",
      "                            , 가격: 17,820원\n",
      "[81] ID: 82, RANK: 10, 제목: 장송의 프리렌 14 한정판, 저자: \n",
      "야마다 카네히토 원저/아베 츠카사 글그림\n",
      "                            , 가격: 14,400원\n",
      "[82] ID: 83, RANK: 11, 제목: 젊음은 나이가 아니라 호르몬이 만든다, 저자: \n",
      "안철우 저\n",
      "                            , 가격: 16,920원\n",
      "[83] ID: 84, RANK: 12, 제목: 해커스 토익 RC Reading(리딩) 기본서, 저자: \n",
      "David Cho 저\n",
      "                            , 가격: 16,920원\n",
      "[84] ID: 85, RANK: 13, 제목: 의사를 노리는 하이에나들, 저자: \n",
      "마창석 저\n",
      "                            , 가격: 30,000원\n",
      "[85] ID: 86, RANK: 14, 제목: 여름을 한 입 베어 물었더니, 저자: \n",
      "이꽃님 저\n",
      "                            , 가격: 11,250원\n",
      "[86] ID: 87, RANK: 15, 제목: 우리의 낙원에서 만나자, 저자: \n",
      "하태완 저\n",
      "                            , 가격: 17,550원\n",
      "[87] ID: 88, RANK: 16, 제목: Again! 뒤집어본 영문법, 저자: \n",
      "오성호 저\n",
      "                            , 가격: 13,410원\n",
      "[88] ID: 89, RANK: 17, 제목: 최소한의 한국사 (20만 부 기념 광복에디션), 저자: \n",
      "최태성 저\n",
      "                            , 가격: 16,200원\n",
      "[89] ID: 90, RANK: 18, 제목: 넥서스, 저자: \n",
      "유발 하라리 저/김명주 역\n",
      "                            , 가격: 25,020원\n",
      "[90] ID: 91, RANK: 19, 제목: 너를 아끼며 살아라, 저자: \n",
      "나태주 저\n",
      "                            , 가격: 16,650원\n",
      "[91] ID: 92, RANK: 20, 제목: 오가미 츠미키와 기일상 3 더블특전판, 저자: \n",
      "모리시타 미유 글그림\n",
      "                            , 가격: 5,400원\n",
      "[92] ID: 93, RANK: 21, 제목: 흔한남매 이무기 3, 저자: \n",
      "흔한남매 원저/이종혁 글/도니패밀리 그림/흔한컴퍼니 감수\n",
      "                            , 가격: 14,220원\n",
      "[93] ID: 94, RANK: 22, 제목: 채식주의자, 저자: \n",
      "한강 저\n",
      "                            , 가격: 15,300원\n",
      "[94] ID: 95, RANK: 23, 제목: 돈의 심리학 (30만 부 기념 스페셜 에디션), 저자: \n",
      "모건 하우절 저/이지연 역\n",
      "                            , 가격: 17,820원\n",
      "[95] ID: 96, RANK: 24, 제목: 재테크농부의 올라운드 투자, 저자: \n",
      "재테크농부 저\n",
      "                            , 가격: 20,700원\n"
     ]
    }
   ],
   "source": [
    "book_list = fetch_book_list_from_db()\n",
    "\n",
    "# 2. 결과 출력: book_list에 저장된 내용을 반복하여 출력합니다.\n",
    "if book_list: # book_list가 비어있지 않다면\n",
    "    print(\"--- 가져온 책 목록 ---\")\n",
    "    for index, book in enumerate(book_list):\n",
    "        # book 변수에는 튜플 형태로 각 행의 데이터가 들어있습니다.\n",
    "  \n",
    "        print(f\"[{index}] ID: {book[0]}, RANK: {book[1]}, 제목: {book[2]}, 저자: {book[3]}, 가격: {book[4]}\")\n",
    "else: \n",
    "    print(\"가져올 책이 없거나 데이터베이스 연결에 문제가 있었습니다.\")\n"
   ]
  },
  {
   "cell_type": "code",
   "execution_count": null,
   "id": "121cf56c",
   "metadata": {},
   "outputs": [],
   "source": [
    "book_list = []\n",
    "\n",
    "for i, item in enumerate(best_list_el):\n",
    "   title= item.select_one('div.info_name > a').text\n",
    "   print(title)\n",
    "   author = item.select_one('.info_auth').text\n",
    "   print(author)\n",
    "   price = item.select_one('div.info_price .txt_num').text\n",
    "   print(price)\n",
    "   book_list.append(Book(i+1,title, author, price))\n",
    "   "
   ]
  },
  {
   "cell_type": "code",
   "execution_count": null,
   "id": "0ef63ec0",
   "metadata": {},
   "outputs": [],
   "source": []
  },
  {
   "cell_type": "code",
   "execution_count": 26,
   "id": "6b8c7da6",
   "metadata": {},
   "outputs": [],
   "source": [
    "import pymysql\n",
    "# MySQL 서버에 연결\n",
    "con = pymysql.connect(host='localhost', user='root', password='1234',  db='my_database',\n",
    " charset='utf8') # 한글처리 (charset = 'utf8’)\n",
    "# 커서 생성\n",
    "cursor = con.cursor()\n",
    "sql_query = '''CREATE TABLE IF NOT EXISTS BOOKS(\n",
    "ID INT PRIMARY KEY AUTO_INCREMENT, BOOK_RANK INT, TITLE VARCHAR(255), AUTHOR VARCHAR(255), PRICE INT)'''\n",
    "cursor.execute(sql_query)\n",
    "cursor.close()\n",
    "con.close()"
   ]
  },
  {
   "cell_type": "code",
   "execution_count": null,
   "id": "d0435f89",
   "metadata": {},
   "outputs": [],
   "source": []
  },
  {
   "cell_type": "code",
   "execution_count": 334,
   "id": "542e5be9",
   "metadata": {},
   "outputs": [],
   "source": [
    "#sql_query = '''CREATE TABLE IF NOT EXISTS BOOKS(\n",
    "#ID INT PRIMARY KEY AUTO_INCREMENT, BOOK_RANK INT, TITLE VARCHAR(255), AUTHOR VARCHAR(255), PRICE INT)'''\n",
    "#cursor.execute(sql_query)\n",
    "# 쿼리 결과 가져오기\n",
    "#result = cursor.fetchall()\n",
    "# 결과 출력\n",
    "#for row in result:\n",
    "#print(row)\n",
    "#cursor.close()\n",
    "#con.close()"
   ]
  },
  {
   "cell_type": "code",
   "execution_count": null,
   "id": "712bf6b8",
   "metadata": {},
   "outputs": [],
   "source": [
    "import pymysql"
   ]
  },
  {
   "cell_type": "code",
   "execution_count": 29,
   "id": "5022acf3",
   "metadata": {},
   "outputs": [
    {
     "name": "stdout",
     "output_type": "stream",
     "text": [
      "혼모노\n",
      "\n",
      "성해나 저\n",
      "                            \n",
      "16,200원\n",
      "류수영의 평생 레시피\n",
      "\n",
      "류수영 저\n",
      "                            \n",
      "22,500원\n",
      "가공범\n",
      "\n",
      "히가시노 게이고 저/김선영 역\n",
      "                            \n",
      "19,800원\n",
      "돌비공포라디오 더 레드\n",
      "\n",
      "돌비 저\n",
      "                            \n",
      "17,820원\n",
      "2025 큰별쌤 최태성의 별별한국사 기출 500제 한국사능력검정시험 심화(1,2,3급)\n",
      "\n",
      "최태성 저\n",
      "                            \n",
      "17,550원\n",
      "료의 생각 없는 생각\n",
      "\n",
      "료 저\n",
      "                            \n",
      "18,000원\n",
      "박곰희 연금 부자 수업\n",
      "\n",
      "박곰희 저\n",
      "                            \n",
      "18,900원\n",
      "2025 큰별쌤 최태성의 별별한국사 한국사능력검정시험 심화(1,2,3급) 상\n",
      "\n",
      "최태성 저\n",
      "                            \n",
      "14,850원\n",
      "단 한 줄만 내 마음에 새긴다고 해도\n",
      "\n",
      "나민애 저\n",
      "                            \n",
      "21,420원\n",
      "자몽살구클럽\n",
      "\n",
      "한로로 저\n",
      "                            \n",
      "10,800원\n",
      "ETS 토익 정기시험 기출문제집 1000 Vol. 4 RC\n",
      "\n",
      "ETS 저\n",
      "                            \n",
      "17,820원\n",
      "2025 큰별쌤 최태성의 별별한국사 한국사능력검정시험 심화(1,2,3급) 하\n",
      "\n",
      "최태성 저\n",
      "                            \n",
      "14,400원\n",
      "ETS 토익 정기시험 기출문제집 1000 Vol. 4 LC\n",
      "\n",
      "ETS 저\n",
      "                            \n",
      "17,820원\n",
      "안녕이라 그랬어\n",
      "\n",
      "김애란 저\n",
      "                            \n",
      "15,120원\n",
      "다크 심리학\n",
      "\n",
      "다크 사이드 프로젝트 저\n",
      "                            \n",
      "19,710원\n",
      "모순\n",
      "\n",
      "양귀자 저\n",
      "                            \n",
      "11,700원\n",
      "편안함의 습격\n",
      "\n",
      "마이클 이스터 저/김원진 역\n",
      "                            \n",
      "19,800원\n",
      "어른의 행복은 조용하다\n",
      "\n",
      "태수 저\n",
      "                            \n",
      "16,020원\n",
      "견우와 선녀 대본집 세트\n",
      "\n",
      "양지훈 저\n",
      "                            \n",
      "41,400원\n",
      "청춘의 독서\n",
      "\n",
      "유시민 저\n",
      "                            \n",
      "17,010원\n",
      "야구선수 김원중\n",
      "\n",
      "김원중, 김하진 저\n",
      "                            \n",
      "18,000원\n",
      "소년이 온다\n",
      "\n",
      "한강 저\n",
      "                            \n",
      "13,500원\n",
      "첫 여름, 완주\n",
      "\n",
      "김금희 저\n",
      "                            \n",
      "15,300원\n",
      "경험의 멸종\n",
      "\n",
      "크리스틴 로젠 저/이영래 역\n",
      "                            \n",
      "17,820원\n",
      "스크래핑한 책 정보를 데이터베이스에 삽입 중...\n",
      "모든 책 정보가 데이터베이스에 성공적으로 삽입(또는 업데이트)되었습니다.\n"
     ]
    }
   ],
   "source": [
    "# MySQL 서버에 연결\n",
    "con = pymysql.connect(host='localhost', user='root', password='1234',  db='my_database',\n",
    " charset='utf8') # 한글처리 (charset = 'utf8’)\n",
    "# 커서 생성\n",
    "cursor = con.cursor()\n",
    "\n",
    "\n",
    "\n",
    "base_url = 'https://www.yes24.com/product/category/bestseller?categoryNumber=001&pageSize=24&pageNumber='\n",
    "page_no =1\n",
    "book_list = []\n",
    "for page in range(1, page_no+1):\n",
    "    url= f'{base_url}{page}'\n",
    "    res = requests.get(url)\n",
    "    soup = BeautifulSoup(res.content,'html.parser')\n",
    "    best_list_el = soup.select('#yesBestList div.item_info')\n",
    "    for i, item in enumerate(best_list_el):\n",
    "        title= item.select_one('div.info_name > a').text\n",
    "        print(title)\n",
    "        author = item.select_one('.info_auth').text\n",
    "        print(author)\n",
    "        price = item.select_one('div.info_price .txt_num').text\n",
    "        print(price)\n",
    "        book_list.append(Book(i+1,title, author, price))\n",
    "        #print(url\n",
    "len(book_list)\n",
    "\n",
    "\n",
    "ins_query = '''\n",
    "INSERT INTO book(BOOK_RANK, title, author, price) VALUES (%s, %s, %s, %s)\n",
    "ON DUPLICATE KEY UPDATE title=VALUES(title), author=VALUES(author), price=VALUES(price);\n",
    "'''\n",
    "# 데이터 삽입\n",
    "print(\"스크래핑한 책 정보를 데이터베이스에 삽입 중...\")\n",
    "for book in book_list:\n",
    "    cursor.execute(ins_query, book.to_list())\n",
    "con.commit() # 변경사항 커밋\n",
    "print(\"모든 책 정보가 데이터베이스에 성공적으로 삽입(또는 업데이트)되었습니다.\")\n",
    "\n",
    "# 데이터베이스 연결 닫기\n",
    "con.close()"
   ]
  },
  {
   "cell_type": "code",
   "execution_count": 30,
   "id": "07bd6299",
   "metadata": {},
   "outputs": [
    {
     "name": "stdout",
     "output_type": "stream",
     "text": [
      "기사 개수: 29\n",
      "Save complete\n"
     ]
    }
   ],
   "source": [
    "import requests\n",
    "from bs4 import BeautifulSoup\n",
    "news_rss = requests.get('https://news.sbs.co.kr/news/SectionRssFeed.do?sectionId=07')\n",
    "news_rss_soup = BeautifulSoup(news_rss.content, 'xml')\n",
    "link_list = news_rss_soup.select('item > link')\n",
    "print(\"기사 개수:\", len(link_list))\n",
    "\n",
    "title_list = news_rss_soup.select('item > title')\n",
    "title_list = [title.text for title in title_list]\n",
    "\n",
    "\n",
    "news_data = []\n",
    "\n",
    "for link in link_list:\n",
    "    news_response = requests.get(link.text)\n",
    "    news_content_soup = BeautifulSoup(news_response.content, 'html.parser')\n",
    "    news_content = news_content_soup.select_one(\"div[itemprop=articleBody]\")\n",
    "    news_data.append(news_content)\n",
    "\n",
    "import pandas as pd\n",
    "news_df = pd.DataFrame(data={'title': title_list, 'content': news_data})\n",
    "news_df.to_csv(\"news.csv\", encoding=\"utf-8-sig\", index=False)\n",
    "print(\"Save complete\")"
   ]
  },
  {
   "cell_type": "code",
   "execution_count": 31,
   "id": "6b88e451",
   "metadata": {},
   "outputs": [
    {
     "name": "stdout",
     "output_type": "stream",
     "text": [
      "영화 정보를 출력합니다.\n",
      "수집한 영화 수: 20\n",
      "좀비딸\n",
      "F1 더 무비\n",
      "전지적 독자 시점\n",
      "킹 오브 킹스\n",
      "판타스틱 4: 새로운 출발\n",
      "악마가 이사왔다\n",
      "명탐정 코난: 척안의 잔상\n",
      "발레리나\n",
      "배드 가이즈 2\n",
      "베베핀 극장판: 사라진 베베핀과 핑크퐁 대모험\n",
      "쥬라기 월드: 새로운 시작\n",
      "노이즈\n",
      "콘스탄틴\n",
      "극장판 도라에몽: 진구의 그림이야기\n",
      "꼬마마법사 주니토니\n",
      "고고다이노 극장판: 게코도마뱀의 꿈\n",
      "슈퍼맨\n",
      "미세리코르디아\n",
      "강령: 귀신놀이\n",
      "추적\n"
     ]
    }
   ],
   "source": [
    "import requests\n",
    "from bs4 import BeautifulSoup\n",
    "from io import BytesIO\n",
    "from PIL import Image\n",
    "import re\n",
    "import os\n",
    "\n",
    "movie_ranking = requests.get(\"https://www.moviechart.co.kr/rank/realtime/index/image\")\n",
    "\n",
    "image_dir = 'images'\n",
    "if not os.path.exists(image_dir):\n",
    "    os.makedirs(image_dir)\n",
    "    \n",
    "pattern = r'[\\\\/:\"*?<>|]'\n",
    "\n",
    "if movie_ranking.status_code == 200:\n",
    "    print(\"영화 정보를 출력합니다.\")\n",
    "    soup = BeautifulSoup(movie_ranking.content, 'html.parser')\n",
    "    title_list = soup.select(\".movieBox-list .movie-title a\")\n",
    "    image_list = soup.select(\".movieBox-list .movieBox-item img\")\n",
    "    print(f\"수집한 영화 수: {len(title_list)}\")\n",
    "    for title, image in zip(title_list, image_list):\n",
    "        image_src = image.get('src')\n",
    "        image_response = requests.get(\"https://www.moviechart.co.kr\" + image_src)\n",
    "        img = Image.open(BytesIO(image_response.content))\n",
    "        image_filename = re.sub(pattern, '', title.text)\n",
    "        img.save(os.path.join(image_dir, image_filename + \".png\"))\n",
    "        print(title.text, )\n",
    "else:\n",
    "    print(\"페이지에 연결할 수 없습니다.\")"
   ]
  }
 ],
 "metadata": {
  "kernelspec": {
   "display_name": "webcrawl_env",
   "language": "python",
   "name": "python3"
  },
  "language_info": {
   "codemirror_mode": {
    "name": "ipython",
    "version": 3
   },
   "file_extension": ".py",
   "mimetype": "text/x-python",
   "name": "python",
   "nbconvert_exporter": "python",
   "pygments_lexer": "ipython3",
   "version": "3.10.18"
  }
 },
 "nbformat": 4,
 "nbformat_minor": 5
}
